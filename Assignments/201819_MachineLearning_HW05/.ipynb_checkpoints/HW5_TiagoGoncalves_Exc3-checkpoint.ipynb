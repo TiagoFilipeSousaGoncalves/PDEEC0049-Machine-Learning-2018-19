{
 "cells": [
  {
   "cell_type": "markdown",
   "metadata": {},
   "source": [
    "3. Consider a HMM with continuous outputs. \n",
    "\n",
    "Assume that the HMM only has two states; both states have the same initial probability; the probability of changing between different states is 0.1 (that is, the transition matrix is symmetric with 0.9 in the elements in the main diagonal). The emission density function for state 1 follows a Laplace distribution with mean 0 and standard deviation 0.2. For state 2 the emission density function is uniform in [0, 1]. Change the code provided in the class (file hmmTest.m / hmmTest.py) to compute the probability of the following sequence of length 10:\n",
    "{0.7, 0.7, 0.1, 0.2, 0.3, 0.6, 0.2, 0.3, −0.1, 0.2}.\n",
    "\n",
    "\n",
    "Send the modified file and write the computed probability."
   ]
  },
  {
   "cell_type": "code",
   "execution_count": 1,
   "metadata": {},
   "outputs": [],
   "source": [
    "#Start by defining probability distribution functions\n",
    "import math\n",
    "import numpy as np\n",
    "#Laplace Distribution Function\n",
    "#ref: http://mathworld.wolfram.com/LaplaceDistribution.html\n",
    "def laplace(x, mean, standard_deviation):\n",
    "    scale = math.sqrt((standard_deviation**2)/2)\n",
    "    return np.exp(-abs(x-mean)/scale)/(2.*scale)\n",
    "\n",
    "#Uniform Distribution Function\n",
    "#ref: https://docs.scipy.org/doc/numpy-1.15.0/reference/generated/numpy.random.uniform.html#numpy.random.uniform\n",
    "def uniform(x, low, high):\n",
    "    probs = []\n",
    "    for i in x:\n",
    "        if i>=low and i<=high:\n",
    "            probs.append(1/(high-low))\n",
    "        else:\n",
    "            probs.append(0)\n",
    "    return np.array(probs)"
   ]
  },
  {
   "cell_type": "code",
   "execution_count": 2,
   "metadata": {},
   "outputs": [
    {
     "name": "stdout",
     "output_type": "stream",
     "text": [
      "The given sequence is: \n",
      " [ 0.7  0.7  0.1  0.2  0.3  0.6  0.2  0.3 -0.1  0.2]\n",
      "\n",
      "All computed alpha: \n",
      " [[1.25249788e-02 5.00000000e-01 3.13750187e-04 5.00000000e-01\n",
      "  5.46948488e-04 5.00000000e-01 4.70128182e-04 5.00000000e-01\n",
      "  1.99247818e-04 5.00000000e-01 1.01226248e-05 5.00000000e-01\n",
      "  8.70087643e-06 5.00000000e-01 3.68757012e-06 5.00000000e-01\n",
      "  6.42839746e-06 0.00000000e+00 5.52551270e-06 0.00000000e+00]\n",
      " [1.25249788e-02 5.00000000e-01 3.13750187e-04 5.00000000e-01\n",
      "  5.46948488e-04 5.00000000e-01 4.70128182e-04 5.00000000e-01\n",
      "  1.99247818e-04 5.00000000e-01 1.01226248e-05 5.00000000e-01\n",
      "  8.70087643e-06 5.00000000e-01 3.68757012e-06 5.00000000e-01\n",
      "  6.42839746e-06 0.00000000e+00 5.52551270e-06 0.00000000e+00]]\n",
      "\n",
      "The probability of the given sequence is: \n",
      " 1.1051025390323771e-05\n"
     ]
    }
   ],
   "source": [
    "#Change initial code\n",
    "import math\n",
    "import numpy as np\n",
    "\n",
    "#xx = [int(c) for c in '166562663611111122']\n",
    "xx = [0.7, 0.7, 0.1, 0.2, 0.3, 0.6, 0.2, 0.3, -0.1, 0.2]\n",
    "xx = np.array(xx)\n",
    "print(\"The given sequence is: \\n\", xx)\n",
    "\n",
    "AA = np.array([[0.9, 0.1], [0.1, 0.9]]) #transition matrix\n",
    "#print(AA)\n",
    "pi0 = np.array([0.5, 0.5])[:,None] #initial probs\n",
    "#print(pi0)\n",
    "\n",
    "#Probability Distributions\n",
    "#Laplace\n",
    "state1 = laplace(x=xx, mean=0, standard_deviation=0.2)\n",
    "#Uniform\n",
    "state2 = uniform(x=xx, low=0, high=1)\n",
    "\n",
    "Px = np.vstack((state1, state2)) # emission probs\n",
    "#print(Px)\n",
    "T = np.size(xx)\n",
    "#print(T)\n",
    "\n",
    "K = 2 # number of states\n",
    "\n",
    "# forward method - slide 31\n",
    "alpha=pi0*Px[:, 0]\n",
    "allAlpha=alpha; # only needed for slide 40\n",
    "for t in range(1,T):\n",
    "    alpha=Px[:, t]*np.dot(AA.T,alpha)\n",
    "    #print(Px[:, t])\n",
    "    allAlpha = np.concatenate((allAlpha,alpha),1) # only needed for slide 40\n",
    "\n",
    "print(\"\\nAll computed alpha: \\n\", allAlpha)\n",
    "SequenceProbability=np.sum(alpha)\n",
    "print(\"\\nThe probability of the given sequence is: \\n\", SequenceProbability)"
   ]
  },
  {
   "cell_type": "markdown",
   "metadata": {},
   "source": [
    "Tiago Filipe Sousa Gonçalves | MIB | 2018/2019"
   ]
  }
 ],
 "metadata": {
  "kernelspec": {
   "display_name": "Python 3",
   "language": "python",
   "name": "python3"
  },
  "language_info": {
   "codemirror_mode": {
    "name": "ipython",
    "version": 3
   },
   "file_extension": ".py",
   "mimetype": "text/x-python",
   "name": "python",
   "nbconvert_exporter": "python",
   "pygments_lexer": "ipython3",
   "version": "3.6.6"
  }
 },
 "nbformat": 4,
 "nbformat_minor": 2
}
