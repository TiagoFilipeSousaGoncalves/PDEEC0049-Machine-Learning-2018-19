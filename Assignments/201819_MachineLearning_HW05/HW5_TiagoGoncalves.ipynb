{
 "cells": [
  {
   "cell_type": "code",
   "execution_count": 41,
   "metadata": {},
   "outputs": [
    {
     "name": "stdout",
     "output_type": "stream",
     "text": [
      "Fitting data....\n",
      "Elements per class in original data:  \n",
      "Class 0:  73 \n",
      "Class 1:  137\n",
      "Elements per cluster in predictions:  \n",
      "Cluster 0:  138 \n",
      "Cluster 1:  72\n",
      "According to the results, one can say that K-Means algorithm, with K=2, was able to correctly predict the clusters of our data.\n"
     ]
    }
   ],
   "source": [
    "#Exercise 1\n",
    "#a) \n",
    "import numpy as np\n",
    "import matplotlib.pyplot as plt\n",
    "from sklearn.cluster import KMeans\n",
    "\n",
    "#Load Data\n",
    "data = np.genfromtxt('heightWeightData.txt', delimiter=\",\")\n",
    "\n",
    "#Split Data into Labels and Features\n",
    "#Convert labels into 0-1\n",
    "labels = data[:,0] - 1\n",
    "#Features\n",
    "features = data[:, 1:3]\n",
    "\n",
    "#Create Classifier K-Means, with K=2\n",
    "kmeans = KMeans(n_clusters=2, random_state=0)\n",
    "#Obtain clusters with k-means classifier\n",
    "print(\"Fitting data....\")\n",
    "kmeans.fit(features)\n",
    "#Make predictions on our data\n",
    "#Predictions\n",
    "y_hat = np.array(kmeans.predict(features))\n",
    "#Compare predictions with ground truth\n",
    "#Count elements of class 0 in labels\n",
    "class_0 = 0\n",
    "for label in labels:\n",
    "    if label==0:\n",
    "        class_0+=1\n",
    "\n",
    "#Count elements of class 0 in labels\n",
    "class_1 = 0\n",
    "for label in labels:\n",
    "    if label==1:\n",
    "        class_1+=1\n",
    "\n",
    "#Count elements of class 0 in labels\n",
    "pred_0 = 0\n",
    "for label in y_hat:\n",
    "    if label==0:\n",
    "        pred_0+=1\n",
    "\n",
    "#Count elements of class 0 in labels\n",
    "pred_1 = 0\n",
    "for label in y_hat:\n",
    "    if label==1:\n",
    "        pred_1+=1\n",
    "        \n",
    "#Number of elements per class\n",
    "print(\"Elements per class in original data: \", \"\\nClass 0: \", class_0, \"\\nClass 1: \", class_1)\n",
    "print(\"Elements per cluster in predictions: \", \"\\nCluster 0: \", pred_0, \"\\nCluster 1: \", pred_1)\n",
    "print(\"According to the results, one can say that K-Means algorithm, with K=2, was able to correctly predict the clusters of our data.\")"
   ]
  },
  {
   "cell_type": "code",
   "execution_count": 43,
   "metadata": {},
   "outputs": [
    {
     "name": "stdout",
     "output_type": "stream",
     "text": [
      "Collecting pyclustering\n",
      "  Downloading https://files.pythonhosted.org/packages/3c/e5/3be27187d430d1c921d32e08355068fde3a0f5897b80145930f00d701461/pyclustering-0.8.2.tar.gz (2.1MB)\n",
      "Requirement already satisfied: scipy in c:\\users\\tiago\\appdata\\local\\conda\\conda\\envs\\machine_learning\\lib\\site-packages (from pyclustering) (1.1.0)\n",
      "Collecting matplotlib (from pyclustering)\n",
      "  Downloading https://files.pythonhosted.org/packages/b1/56/569c83515c10146fd0aa09e086816b12e301d0811048e3354a6e9b77ba9a/matplotlib-3.0.2-cp36-cp36m-win_amd64.whl (8.9MB)\n",
      "Requirement already satisfied: numpy in c:\\users\\tiago\\appdata\\local\\conda\\conda\\envs\\machine_learning\\lib\\site-packages (from pyclustering) (1.15.4)\n",
      "Collecting Pillow (from pyclustering)\n",
      "  Downloading https://files.pythonhosted.org/packages/bd/39/c76eaf781343162bdb1cf4854cb3bd5947a87ee44363e5acd6c48d69c4a1/Pillow-5.3.0-cp36-cp36m-win_amd64.whl (1.6MB)\n",
      "Collecting kiwisolver>=1.0.1 (from matplotlib->pyclustering)\n",
      "  Downloading https://files.pythonhosted.org/packages/44/72/16630c3392eba03788ad87949390516bbc488e8e118047a3b824631d21a6/kiwisolver-1.0.1-cp36-none-win_amd64.whl (57kB)\n",
      "Collecting cycler>=0.10 (from matplotlib->pyclustering)\n",
      "  Using cached https://files.pythonhosted.org/packages/f7/d2/e07d3ebb2bd7af696440ce7e754c59dd546ffe1bbe732c8ab68b9c834e61/cycler-0.10.0-py2.py3-none-any.whl\n",
      "Collecting pyparsing!=2.0.4,!=2.1.2,!=2.1.6,>=2.0.1 (from matplotlib->pyclustering)\n",
      "  Using cached https://files.pythonhosted.org/packages/71/e8/6777f6624681c8b9701a8a0a5654f3eb56919a01a78e12bf3c73f5a3c714/pyparsing-2.3.0-py2.py3-none-any.whl\n",
      "Requirement already satisfied: python-dateutil>=2.1 in c:\\users\\tiago\\appdata\\local\\conda\\conda\\envs\\machine_learning\\lib\\site-packages (from matplotlib->pyclustering) (2.7.5)\n",
      "Requirement already satisfied: setuptools in c:\\users\\tiago\\appdata\\local\\conda\\conda\\envs\\machine_learning\\lib\\site-packages (from kiwisolver>=1.0.1->matplotlib->pyclustering) (40.6.2)\n",
      "Requirement already satisfied: six in c:\\users\\tiago\\appdata\\local\\conda\\conda\\envs\\machine_learning\\lib\\site-packages (from cycler>=0.10->matplotlib->pyclustering) (1.11.0)\n",
      "Building wheels for collected packages: pyclustering\n",
      "  Running setup.py bdist_wheel for pyclustering: started\n",
      "  Running setup.py bdist_wheel for pyclustering: finished with status 'done'\n",
      "  Stored in directory: C:\\Users\\tiago\\AppData\\Local\\pip\\Cache\\wheels\\d6\\61\\75\\0f70c5f9e363b194b6bc197794c4376f72a550e9d5faf19958\n",
      "Successfully built pyclustering\n",
      "Installing collected packages: kiwisolver, cycler, pyparsing, matplotlib, Pillow, pyclustering\n",
      "Successfully installed Pillow-5.3.0 cycler-0.10.0 kiwisolver-1.0.1 matplotlib-3.0.2 pyclustering-0.8.2 pyparsing-2.3.0\n"
     ]
    }
   ],
   "source": [
    "#b)\n",
    "!pip install pyclustering"
   ]
  },
  {
   "cell_type": "code",
   "execution_count": null,
   "metadata": {},
   "outputs": [],
   "source": []
  }
 ],
 "metadata": {
  "kernelspec": {
   "display_name": "Python 3",
   "language": "python",
   "name": "python3"
  },
  "language_info": {
   "codemirror_mode": {
    "name": "ipython",
    "version": 3
   },
   "file_extension": ".py",
   "mimetype": "text/x-python",
   "name": "python",
   "nbconvert_exporter": "python",
   "pygments_lexer": "ipython3",
   "version": "3.6.5"
  }
 },
 "nbformat": 4,
 "nbformat_minor": 2
}
