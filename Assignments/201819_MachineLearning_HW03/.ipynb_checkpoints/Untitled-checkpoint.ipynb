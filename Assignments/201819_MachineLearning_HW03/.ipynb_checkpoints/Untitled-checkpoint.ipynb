{
 "cells": [
  {
   "cell_type": "markdown",
   "metadata": {},
   "source": [
    "1. Load the height/weight data from the file heightWeightData.txt. The first column is the class label (1=male, 2=female), the second column is height, the third weight. Start by replacing the weight column by the product of height and weight.\n",
    "\n",
    "For the Fisher’s linear discriminant analysis as discussed in the class, send the python/matlab code and answers for the following questions:\n",
    "\n",
    "a. What’s the SB matrix?\n",
    "\n",
    "b. What’s the SW matrix?\n",
    "\n",
    "c. What’s the optimal 1d projection direction?\n",
    "\n",
    "d. Project the data in the optimal 1d projection direction. Set the decision threshold as the middle point between the \n",
    "projected means. What’s the misclassification error rate?\n",
    "\n",
    "e. What’s your height and weight? What’s the model prediction for your case (male/female)?"
   ]
  },
  {
   "cell_type": "code",
   "execution_count": 1,
   "metadata": {},
   "outputs": [],
   "source": [
    "#Imports\n",
    "import numpy as np\n",
    "import matplotlib.pyplot as plt\n",
    "\n",
    "np.set_printoptions(suppress=True)"
   ]
  },
  {
   "cell_type": "code",
   "execution_count": 20,
   "metadata": {},
   "outputs": [],
   "source": [
    "data = np.genfromtxt(\"heightWeightData.txt\", delimiter=\",\")\n",
    "\n",
    "#Weight is 3rd Column\n",
    "np.set_printoptions(suppress=True)\n",
    "new_data = np.zeros(data.shape)\n",
    "for i in range(int(new_data.shape[0])):\n",
    "    new_data[i, 0] = data[i, 0]\n",
    "    new_data[i, 1] = data[i, 1]\n",
    "    new_data[i, 2] = np.multiply(data[i, 1], data[i, 2])"
   ]
  },
  {
   "cell_type": "code",
   "execution_count": 3,
   "metadata": {},
   "outputs": [
    {
     "name": "stdout",
     "output_type": "stream",
     "text": [
      "Mean Vector for Males Class: \n",
      " [  182.01013699 14552.85501781] \n",
      "Mean Vector for Females Class: \n",
      " [ 165.28540146 9757.31728073]\n",
      "Between-Class Scatter Matrix, taking into account sample sizes:\n",
      " [[1.33211786e+04 3.81962480e+06]\n",
      " [3.81962480e+06 1.09521342e+09]]\n",
      "Between-Class Scatter Matrix, not regarding sample sizes:\n",
      " [[     152.84841103    43826.72132582]\n",
      " [   43826.72132582 12566578.14875751]]\n",
      "Within Class Scatter Matrix is:\n",
      " [[1.34819629e+04 2.38635072e+06]\n",
      " [2.38635072e+06 1.07660688e+09]]\n"
     ]
    }
   ],
   "source": [
    "#Implementing Fisher's Linear Discriminant Analysis\n",
    "#Let's group data first\n",
    "#Count males (=1) and females (=2)\n",
    "nr_males = 0\n",
    "nr_females = 0\n",
    "for i in range(int(new_data.shape[0])):\n",
    "    if new_data[i, 0] == 1:\n",
    "        nr_males+=1\n",
    "    elif new_data[i, 0] == 2:\n",
    "        nr_females+=1\n",
    "#print(nr_males, nr_females)\n",
    "#Concatenate Class Sizes\n",
    "class_sizes = np.array([nr_males, nr_females])\n",
    "\n",
    "#Assign Classes\n",
    "males = np.zeros([nr_males, new_data.shape[1]])\n",
    "females = np.zeros([nr_females, new_data.shape[1]])\n",
    "m_index = 0\n",
    "f_index = 0\n",
    "for index in range(int(new_data.shape[0])):\n",
    "    if new_data[index, 0] == 1:\n",
    "        males[m_index] = new_data[index]\n",
    "        m_index+=1\n",
    "    elif new_data[index, 0] == 2:\n",
    "        females[f_index] = new_data[index]\n",
    "        f_index+=1\n",
    "\n",
    "#Calculate means vector for each class\n",
    "#Drop Label Column\n",
    "f_males = males[:, 1:]\n",
    "f_females = females[:, 1:]\n",
    "#Calculate mean vector for each class\n",
    "mean_males = np.mean(a=f_males, axis=0)\n",
    "mean_females = np.mean(a=f_females, axis=0)\n",
    "\n",
    "print(\"Mean Vector for Males Class: \\n\", mean_males,\"\\nMean Vector for Females Class: \\n\", mean_females)\n",
    "\n",
    "#Calculate Overall Mean\n",
    "overall_mean = np.mean(new_data[:, 1:], axis=0)\n",
    "#print(overall_mean)\n",
    "\n",
    "#Let's Compute Between Class Scatter Matrix S_B\n",
    "#Concatenate Mean Vectors\n",
    "class_means = np.array([mean_males, mean_females])\n",
    "#Iterate through each class\n",
    "n_S_B = np.zeros((2,2))\n",
    "S_B = np.zeros((2,2))\n",
    "for i in range(2):\n",
    "    n_samples = class_sizes[i]\n",
    "    mean_of_class = class_means[i].reshape(2,1) #Reshape Mean Vectors into Column Vectors to perform Computation\n",
    "    ovrl_mean = overall_mean.reshape(2,1) #Reshape Overall Mean Vector into Column Vector to perform Computation\n",
    "    #Taking into account sample sizes\n",
    "    n_S_B += n_samples * (mean_of_class - ovrl_mean).dot((mean_of_class - ovrl_mean).T)\n",
    "    #n_S_B += n_samples * np.outer((mean_of_class - ovrl_mean), (mean_of_class - ovrl_mean))\n",
    "    #Without sample sizes\n",
    "    S_B += (mean_of_class - ovrl_mean).dot((mean_of_class - ovrl_mean).T)\n",
    "    #S_B += np.outer((mean_of_class - ovrl_mean), (mean_of_class - ovrl_mean))\n",
    "\n",
    "#S_B Matrix\n",
    "print('Between-Class Scatter Matrix, taking into account sample sizes:\\n', n_S_B)\n",
    "print('Between-Class Scatter Matrix, not regarding sample sizes:\\n', S_B)\n",
    "\n",
    "\n",
    "#Let's Compute Within Class Scatter Matrix S_W\n",
    "#Calculate the scatter matrices for the SW (Scatter within) and sum the elements up\n",
    "#First reshape vectors to perform computations\n",
    "#Scatter Matrix for Males Class\n",
    "scatter_males = np.zeros((2, 2))\n",
    "for row in f_males:\n",
    "    row, mv = row.reshape(2,1), mean_males.reshape(2,1) # make column vectors\n",
    "    scatter_males += (row-mv).dot((row-mv).T)\n",
    "\n",
    "#Scatter Matrix for Females Class\n",
    "scatter_females = np.zeros((2, 2))\n",
    "for row in f_females:\n",
    "    row, mv = row.reshape(2,1), mean_females.reshape(2,1) #make column vectors\n",
    "    scatter_females += (row-mv).dot((row-mv).T)\n",
    "\n",
    "#Scatter Within Matrix is the sum of both of the Scatter Matrix above\n",
    "S_W = scatter_males + scatter_females # sum class scatter matrices\n",
    "print(\"Within Class Scatter Matrix is:\\n\", S_W)"
   ]
  },
  {
   "cell_type": "code",
   "execution_count": 18,
   "metadata": {
    "scrolled": true
   },
   "outputs": [
    {
     "name": "stdout",
     "output_type": "stream",
     "text": [
      "\n",
      "Eigenvector 1: \n",
      "[[-0.99999392]\n",
      " [ 0.00348754]]\n",
      "Eigenvalue 1: 1.73e-18\n",
      "\n",
      "Eigenvector 2: \n",
      "[[-0.99999289]\n",
      " [-0.00377042]]\n",
      "Eigenvalue 2: 1.42e-02\n",
      "\n",
      "Everything was correctly calculated!\n"
     ]
    }
   ],
   "source": [
    "#Obtain the optimal 1D Projection Direction\n",
    "#Using S_B that takes into account the number of samples n_S_B\n",
    "#eig_vals, eig_vecs = np.linalg.eig(np.linalg.inv(S_W).dot(n_S_B))\n",
    "\n",
    "#Using S_B that takes into account the number of samples n_S_B\n",
    "eig_vals, eig_vecs = np.linalg.eig(np.linalg.inv(S_W).dot(S_B))\n",
    "\n",
    "for i in range(len(eig_vals)):\n",
    "    eigvec_sc = eig_vecs[:,i].reshape(2,1)   \n",
    "    print('\\nEigenvector {}: \\n{}'.format(i+1, eigvec_sc.real))\n",
    "    print('Eigenvalue {:}: {:.2e}'.format(i+1, eig_vals[i].real))\n",
    "    \n",
    "#Check the eigenvector-eigenvalue calculation\n",
    "for i in range(len(eig_vals)):\n",
    "    eigv = eig_vecs[:,i].reshape(2,1)\n",
    "    np.testing.assert_array_almost_equal(np.linalg.inv(S_W).dot(S_B).dot(eigv),\n",
    "                                         eig_vals[i] * eigv,\n",
    "                                         decimal=6, err_msg='', verbose=True)\n",
    "print('\\nEverything was correctly calculated!')"
   ]
  },
  {
   "cell_type": "code",
   "execution_count": 29,
   "metadata": {},
   "outputs": [
    {
     "name": "stdout",
     "output_type": "stream",
     "text": [
      "Matrix W is: \n",
      " [[-0.99999289 -0.99999392]\n",
      " [-0.00377042  0.00348754]]\n"
     ]
    }
   ],
   "source": [
    "# Make a list of (eigenvalue, eigenvector) tuples\n",
    "#eig_pairs = [(np.abs(eig_vals[i]), eig_vecs[:,i]) for i in range(len(eig_vals))]\n",
    "\n",
    "# Sort the (eigenvalue, eigenvector) tuples from high to low\n",
    "#eig_pairs = sorted(eig_pairs, key=lambda k: k[0], reverse=True)\n",
    "\n",
    "# Visually confirm that the list is correctly sorted by decreasing eigenvalues\n",
    "\n",
    "#print('Eigenvalues in decreasing order:\\n')\n",
    "#for i in eig_pairs:\n",
    "    #print(i[0])\n",
    "\n",
    "# 4. Compute the Eigenvalues and Eigenvectors of SW^-1 SB\n",
    "eigval, eigvec = np.linalg.eig(np.dot(np.linalg.inv(S_W),S_B))\n",
    "    \n",
    "# 5. Select the two largest eigenvalues \n",
    "eigen_pairs = [[np.abs(eigval[i]),eigvec[:,i]] for i in range(len(eigval))]\n",
    "eigen_pairs = sorted(eigen_pairs,key=lambda k: k[0],reverse=True)\n",
    "w = np.hstack((eigen_pairs[0][1][:,np.newaxis].real,eigen_pairs[1][1][:,np.newaxis].real)) # Select two largest\n",
    "#Matrix W\n",
    "print(\"Matrix W is: \\n\", w)"
   ]
  },
  {
   "cell_type": "code",
   "execution_count": 31,
   "metadata": {},
   "outputs": [
    {
     "name": "stdout",
     "output_type": "stream",
     "text": [
      "Calculated threshold is:  [[  -173.64661976 -12155.00475843]\n",
      " [    -0.05490772    -10.42068166]]\n"
     ]
    }
   ],
   "source": [
    "#Transforming the samples onto the new subspace\n",
    "#Project the means and take their mean; We multiply w by -1, i.e. -w, to get positive threshold!\n",
    "tot = 0\n",
    "#for mean in class_means:\n",
    "tot = np.dot(w, class_means)\n",
    "    #print(tot)\n",
    "w0 = 0.5 * tot\n",
    "print(\"Calculated threshold is: \", w0)"
   ]
  },
  {
   "cell_type": "code",
   "execution_count": 27,
   "metadata": {},
   "outputs": [
    {
     "ename": "ValueError",
     "evalue": "setting an array element with a sequence.",
     "output_type": "error",
     "traceback": [
      "\u001b[1;31m---------------------------------------------------------------------------\u001b[0m",
      "\u001b[1;31mValueError\u001b[0m                                Traceback (most recent call last)",
      "\u001b[1;32m<ipython-input-27-6f4f2a05ab6d>\u001b[0m in \u001b[0;36m<module>\u001b[1;34m()\u001b[0m\n\u001b[0;32m      5\u001b[0m \u001b[0mprojected\u001b[0m \u001b[1;33m=\u001b[0m \u001b[0mnp\u001b[0m\u001b[1;33m.\u001b[0m\u001b[0mzeros\u001b[0m\u001b[1;33m(\u001b[0m\u001b[1;33m(\u001b[0m\u001b[0mint\u001b[0m\u001b[1;33m(\u001b[0m\u001b[0mfeatures\u001b[0m\u001b[1;33m.\u001b[0m\u001b[0mshape\u001b[0m\u001b[1;33m[\u001b[0m\u001b[1;36m0\u001b[0m\u001b[1;33m]\u001b[0m\u001b[1;33m)\u001b[0m\u001b[1;33m)\u001b[0m\u001b[1;33m)\u001b[0m\u001b[1;33m\u001b[0m\u001b[0m\n\u001b[0;32m      6\u001b[0m \u001b[1;32mfor\u001b[0m \u001b[0mi\u001b[0m \u001b[1;32min\u001b[0m \u001b[0mrange\u001b[0m\u001b[1;33m(\u001b[0m\u001b[0mint\u001b[0m\u001b[1;33m(\u001b[0m\u001b[0mfeatures\u001b[0m\u001b[1;33m.\u001b[0m\u001b[0mshape\u001b[0m\u001b[1;33m[\u001b[0m\u001b[1;36m0\u001b[0m\u001b[1;33m]\u001b[0m\u001b[1;33m)\u001b[0m\u001b[1;33m)\u001b[0m\u001b[1;33m:\u001b[0m\u001b[1;33m\u001b[0m\u001b[0m\n\u001b[1;32m----> 7\u001b[1;33m     \u001b[0mprojected\u001b[0m\u001b[1;33m[\u001b[0m\u001b[0mi\u001b[0m\u001b[1;33m]\u001b[0m \u001b[1;33m=\u001b[0m \u001b[0mnp\u001b[0m\u001b[1;33m.\u001b[0m\u001b[0mdot\u001b[0m\u001b[1;33m(\u001b[0m\u001b[1;33m-\u001b[0m\u001b[0mw\u001b[0m\u001b[1;33m,\u001b[0m \u001b[0mfeatures\u001b[0m\u001b[1;33m[\u001b[0m\u001b[0mi\u001b[0m\u001b[1;33m]\u001b[0m\u001b[1;33m.\u001b[0m\u001b[0mT\u001b[0m\u001b[1;33m)\u001b[0m\u001b[1;33m.\u001b[0m\u001b[0mT\u001b[0m\u001b[1;33m\u001b[0m\u001b[0m\n\u001b[0m\u001b[0;32m      8\u001b[0m \u001b[0mprojected\u001b[0m\u001b[1;33m\u001b[0m\u001b[0m\n",
      "\u001b[1;31mValueError\u001b[0m: setting an array element with a sequence."
     ]
    }
   ],
   "source": [
    "#Calculate Error\n",
    "#For each input project the point\n",
    "features = data[:, 1:]\n",
    "labels = data[:,0]\n",
    "projected = np.zeros((int(features.shape[0])))\n",
    "for i in range(int(features.shape[0])):\n",
    "    projected[i] = np.dot(-w, features[i].T).T\n",
    "projected"
   ]
  },
  {
   "cell_type": "code",
   "execution_count": 16,
   "metadata": {},
   "outputs": [],
   "source": [
    "#Assign Predictions\n",
    "predictions = []\n",
    "for item in projected:\n",
    "    if item >= w0:\n",
    "        predictions.append(1)\n",
    "    else:\n",
    "        predictions.append(2)\n",
    "#predictions"
   ]
  },
  {
   "cell_type": "code",
   "execution_count": 17,
   "metadata": {},
   "outputs": [
    {
     "name": "stdout",
     "output_type": "stream",
     "text": [
      "Error Rate is:  34.76190476190476 %\n"
     ]
    }
   ],
   "source": [
    "#Check Classification\n",
    "errors = (labels != predictions)\n",
    "n_errors = sum(errors)\n",
    "\n",
    "error_rate = (n_errors/len(predictions) * 100)\n",
    "print(\"Error Rate is: \", error_rate, \"%\")"
   ]
  },
  {
   "cell_type": "code",
   "execution_count": 10,
   "metadata": {},
   "outputs": [
    {
     "name": "stdout",
     "output_type": "stream",
     "text": [
      "In my case I was predicted as:  Female  which is  False\n"
     ]
    }
   ],
   "source": [
    "#My case\n",
    "my_height = 164\n",
    "my_weight = 65\n",
    "my_features = np.array([my_height, my_weight*my_height])\n",
    "my_ground_truth = \"Male\"\n",
    "\n",
    "#My Prediction\n",
    "my_projection = np.dot(w, my_features.T).T\n",
    "if my_projection >= w0:\n",
    "    my_pred = \"Male\"\n",
    "else:\n",
    "    my_pred = \"Female\"\n",
    "\n",
    "print(\"In my case I was predicted as: \", my_pred, \" which is \", my_ground_truth==my_pred)"
   ]
  },
  {
   "cell_type": "markdown",
   "metadata": {},
   "source": [
    "https://sebastianraschka.com/Articles/2014_python_lda.html\n",
    "\n",
    "http://goelhardik.github.io/2016/10/04/fishers-lda/\n",
    "\n",
    "https://www.python-course.eu/linear_discriminant_analysis.php\n",
    "\n",
    "https://github.com/goelhardik/projects/blob/master/fishers_lda/lda.py\n",
    "\n",
    "https://scikit-learn.org/stable/modules/lda_qda.html"
   ]
  },
  {
   "cell_type": "code",
   "execution_count": 11,
   "metadata": {},
   "outputs": [
    {
     "name": "stdout",
     "output_type": "stream",
     "text": [
      "{'n_components': None, 'priors': None, 'shrinkage': None, 'solver': 'svd', 'store_covariance': False, 'tol': 0.0001}\n",
      "[2. 2. 2. 2. 2. 2. 1. 2. 1. 2. 2. 1. 1. 2. 2. 2. 2. 1. 2. 1. 2. 2. 2. 1.\n",
      " 1. 2. 2. 2. 2. 2. 1. 2. 2. 2. 1. 2. 2. 2. 1. 2. 2. 1. 2. 2. 1. 1. 2. 1.\n",
      " 2. 2. 1. 2. 2. 1. 2. 1. 1. 2. 2. 2. 1. 2. 1. 2. 2. 2. 2. 1. 1. 2. 2. 1.\n",
      " 2. 1. 2. 2. 1. 2. 1. 2. 2. 2. 2. 2. 2. 1. 2. 1. 2. 2. 2. 2. 2. 2. 2. 2.\n",
      " 2. 2. 1. 1. 1. 1. 1. 2. 1. 1. 1. 2. 2. 2. 2. 2. 2. 2. 2. 2. 1. 1. 1. 2.\n",
      " 2. 2. 2. 2. 2. 1. 1. 1. 2. 1. 1. 1. 1. 2. 2. 2. 1. 2. 2. 2. 2. 1. 2. 2.\n",
      " 1. 2. 2. 2. 2. 2. 1. 2. 1. 2. 2. 1. 2. 2. 1. 2. 1. 2. 2. 2. 2. 2. 2. 1.\n",
      " 2. 1. 2. 2. 2. 1. 2. 2. 2. 2. 2. 2. 2. 1. 2. 2. 1. 2. 2. 2. 1. 2. 2. 1.\n",
      " 2. 2. 2. 2. 1. 2. 2. 1. 2. 2. 1. 2. 1. 1. 1. 1. 2. 1.]\n"
     ]
    },
    {
     "data": {
      "text/plain": [
       "25"
      ]
     },
     "execution_count": 11,
     "metadata": {},
     "output_type": "execute_result"
    }
   ],
   "source": [
    "#Using sklearn\n",
    "from sklearn.discriminant_analysis import LinearDiscriminantAnalysis\n",
    "clf = LinearDiscriminantAnalysis()\n",
    "clf.fit(features, labels)\n",
    "LinearDiscriminantAnalysis(n_components=None, priors=None, shrinkage=None,\n",
    "              solver='eigen', store_covariance=False, tol=0.0001)\n",
    "print(clf.get_params())\n",
    "print(clf.predict(features))\n",
    "sum(labels!=clf.predict(features))\n"
   ]
  },
  {
   "cell_type": "code",
   "execution_count": 225,
   "metadata": {},
   "outputs": [
    {
     "data": {
      "text/plain": [
       "11.904761904761903"
      ]
     },
     "execution_count": 225,
     "metadata": {},
     "output_type": "execute_result"
    }
   ],
   "source": [
    "error = (25/210)*100\n",
    "error"
   ]
  },
  {
   "cell_type": "code",
   "execution_count": 21,
   "metadata": {},
   "outputs": [
    {
     "data": {
      "text/plain": [
       "array([  171.0992381 , 11424.33754171])"
      ]
     },
     "execution_count": 21,
     "metadata": {},
     "output_type": "execute_result"
    }
   ],
   "source": [
    "overall_mean"
   ]
  },
  {
   "cell_type": "code",
   "execution_count": null,
   "metadata": {},
   "outputs": [],
   "source": []
  }
 ],
 "metadata": {
  "kernelspec": {
   "display_name": "Python 3",
   "language": "python",
   "name": "python3"
  },
  "language_info": {
   "codemirror_mode": {
    "name": "ipython",
    "version": 3
   },
   "file_extension": ".py",
   "mimetype": "text/x-python",
   "name": "python",
   "nbconvert_exporter": "python",
   "pygments_lexer": "ipython3",
   "version": "3.6.6"
  }
 },
 "nbformat": 4,
 "nbformat_minor": 2
}
