{
 "cells": [
  {
   "cell_type": "markdown",
   "metadata": {},
   "source": [
    "1. Load the height/weight data from the file heightWeightData.txt. The first column is the class label (1=male, 2=female), the second column is height, the third weight. Start by replacing the weight column by the product of height and weight.\n",
    "\n",
    "For the Fisher’s linear discriminant analysis as discussed in the class, send the python/matlab code and answers for the following questions:\n",
    "\n",
    "a. What’s the SB matrix?\n",
    "\n",
    "b. What’s the SW matrix?\n",
    "\n",
    "c. What’s the optimal 1d projection direction?\n",
    "\n",
    "d. Project the data in the optimal 1d projection direction. Set the decision threshold as the middle point between the \n",
    "projected means. What’s the misclassification error rate?\n",
    "\n",
    "e. What’s your height and weight? What’s the model prediction for your case (male/female)?"
   ]
  },
  {
   "cell_type": "code",
   "execution_count": 1,
   "metadata": {},
   "outputs": [],
   "source": [
    "#Imports\n",
    "import numpy as np\n",
    "import matplotlib.pyplot as plt\n",
    "\n",
    "#Load Data\n",
    "data = np.genfromtxt(\"heightWeightData.txt\", delimiter=\",\")\n",
    "\n",
    "#Weight is 3rd Column\n",
    "np.set_printoptions(suppress=True)\n",
    "new_data = np.zeros(data.shape)\n",
    "for i in range(int(new_data.shape[0])):\n",
    "    new_data[i, 0] = data[i, 0]\n",
    "    new_data[i, 1] = data[i, 1]\n",
    "    new_data[i, 2] = np.multiply(data[i, 1], data[i, 2])"
   ]
  },
  {
   "cell_type": "code",
   "execution_count": 2,
   "metadata": {},
   "outputs": [
    {
     "name": "stdout",
     "output_type": "stream",
     "text": [
      "Mean Vector for Males Class: \n",
      " [  182.01013699 14552.85501781] \n",
      "Mean Vector for Females Class: \n",
      " [ 165.28540146 9757.31728073]\n"
     ]
    }
   ],
   "source": [
    "#Implementing Fisher's Linear Discriminant Analysis\n",
    "#Let's group data first\n",
    "#Count males (=1) and females (=2)\n",
    "nr_males = 0\n",
    "nr_females = 0\n",
    "for i in range(int(new_data.shape[0])):\n",
    "    if new_data[i, 0] == 1:\n",
    "        nr_males+=1\n",
    "    elif new_data[i, 0] == 2:\n",
    "        nr_females+=1\n",
    "#print(nr_males, nr_females)\n",
    "#Concatenate Class Sizes\n",
    "class_sizes = np.array([nr_males, nr_females])\n",
    "\n",
    "#Assign Classes\n",
    "males = np.zeros([nr_males, new_data.shape[1]])\n",
    "females = np.zeros([nr_females, new_data.shape[1]])\n",
    "m_index = 0\n",
    "f_index = 0\n",
    "for index in range(int(new_data.shape[0])):\n",
    "    if new_data[index, 0] == 1:\n",
    "        males[m_index] = new_data[index]\n",
    "        m_index+=1\n",
    "    elif new_data[index, 0] == 2:\n",
    "        females[f_index] = new_data[index]\n",
    "        f_index+=1\n",
    "\n",
    "#Calculate means vector for each class\n",
    "#Drop Label Column\n",
    "f_males = males[:, 1:]\n",
    "f_females = females[:, 1:]\n",
    "#Calculate mean vector for each class\n",
    "mean_males = np.mean(a=f_males, axis=0)\n",
    "mean_females = np.mean(a=f_females, axis=0)\n",
    "\n",
    "print(\"Mean Vector for Males Class: \\n\", mean_males,\"\\nMean Vector for Females Class: \\n\", mean_females)"
   ]
  },
  {
   "cell_type": "markdown",
   "metadata": {},
   "source": [
    "a. What’s the SB matrix?"
   ]
  },
  {
   "cell_type": "code",
   "execution_count": 3,
   "metadata": {},
   "outputs": [
    {
     "name": "stdout",
     "output_type": "stream",
     "text": [
      "S_B Matrix is:  [     279.71677843 22997182.18774202]\n"
     ]
    }
   ],
   "source": [
    "#Calculate Overall Mean\n",
    "overall_mean = np.mean(new_data[:, 1:], axis=0)\n",
    "#print(\"Overall mean vector is: \", overall_mean)\n",
    "\n",
    "#Let's Compute Between Class Scatter Matrix S_B\n",
    "\"According to the slides: S_B = (m2-m1)(m2-m1).T\"\n",
    "S_B = np.multiply((mean_females-mean_males), (mean_females-mean_males).T)\n",
    "print(\"S_B Matrix is: \", S_B)"
   ]
  },
  {
   "cell_type": "markdown",
   "metadata": {},
   "source": [
    "b. What’s the SW matrix?"
   ]
  },
  {
   "cell_type": "code",
   "execution_count": 11,
   "metadata": {},
   "outputs": [
    {
     "name": "stdout",
     "output_type": "stream",
     "text": [
      "S_W Matrix is:  [2.39983269e+06 1.07899323e+09]\n"
     ]
    }
   ],
   "source": [
    "#Let's Compute Within Class Scatter Matrix S_W\n",
    "#According to Slides\n",
    "#Males Class\n",
    "scatter_male = sum(np.matmul((f_males-mean_males).T, ((f_males-mean_males).T).T))\n",
    "scatter_female = sum(np.matmul((f_females-mean_females).T, ((f_females-mean_females).T).T))\n",
    "S_W = scatter_male+scatter_female\n",
    "print(\"S_W Matrix is: \", S_W)"
   ]
  },
  {
   "cell_type": "markdown",
   "metadata": {},
   "source": [
    "c. What’s the optimal 1d projection direction?"
   ]
  },
  {
   "cell_type": "code",
   "execution_count": 14,
   "metadata": {},
   "outputs": [
    {
     "name": "stdout",
     "output_type": "stream",
     "text": [
      "Optimal 1D Projection Direction is:  [-0.00000697 -0.00000444]\n"
     ]
    }
   ],
   "source": [
    "#Optimal Projection or Matrix W\n",
    "W = (1/S_W)*(mean_females-mean_males)\n",
    "print(\"Optimal 1D Projection Direction is: \", W)"
   ]
  },
  {
   "cell_type": "markdown",
   "metadata": {},
   "source": [
    "d. Project the data in the optimal 1d projection direction. Set the decision threshold as the middle point between the \n",
    "projected means. What’s the misclassification error rate?"
   ]
  },
  {
   "cell_type": "code",
   "execution_count": 15,
   "metadata": {},
   "outputs": [
    {
     "name": "stdout",
     "output_type": "stream",
     "text": [
      "Calculated threshold is:  -0.055232916501277526\n"
     ]
    }
   ],
   "source": [
    "#Calcultate Threshold\n",
    "tot = 0\n",
    "class_means = np.array([mean_males, mean_females])\n",
    "for mean in class_means:\n",
    "    tot += np.dot(W.T, mean)\n",
    "    #print(tot)\n",
    "w0 = 0.5 * tot\n",
    "print(\"Calculated threshold is: \", w0)"
   ]
  },
  {
   "cell_type": "code",
   "execution_count": 17,
   "metadata": {},
   "outputs": [],
   "source": [
    "#Calculate Error\n",
    "#For each input project the point\n",
    "features = (new_data[:, 1:]).T\n",
    "labels = new_data[:,0]\n",
    "projected = np.dot(W.T, np.array(features))\n",
    "#projected"
   ]
  },
  {
   "cell_type": "code",
   "execution_count": 18,
   "metadata": {},
   "outputs": [
    {
     "data": {
      "text/plain": [
       "[2,\n",
       " 2,\n",
       " 2,\n",
       " 2,\n",
       " 2,\n",
       " 2,\n",
       " 1,\n",
       " 2,\n",
       " 1,\n",
       " 2,\n",
       " 2,\n",
       " 1,\n",
       " 2,\n",
       " 2,\n",
       " 2,\n",
       " 2,\n",
       " 2,\n",
       " 2,\n",
       " 2,\n",
       " 1,\n",
       " 2,\n",
       " 2,\n",
       " 1,\n",
       " 1,\n",
       " 1,\n",
       " 2,\n",
       " 2,\n",
       " 2,\n",
       " 2,\n",
       " 2,\n",
       " 1,\n",
       " 2,\n",
       " 2,\n",
       " 2,\n",
       " 1,\n",
       " 2,\n",
       " 2,\n",
       " 2,\n",
       " 1,\n",
       " 2,\n",
       " 2,\n",
       " 1,\n",
       " 2,\n",
       " 2,\n",
       " 1,\n",
       " 1,\n",
       " 2,\n",
       " 1,\n",
       " 2,\n",
       " 2,\n",
       " 1,\n",
       " 2,\n",
       " 2,\n",
       " 1,\n",
       " 2,\n",
       " 1,\n",
       " 1,\n",
       " 2,\n",
       " 2,\n",
       " 2,\n",
       " 1,\n",
       " 2,\n",
       " 1,\n",
       " 2,\n",
       " 2,\n",
       " 2,\n",
       " 2,\n",
       " 1,\n",
       " 1,\n",
       " 2,\n",
       " 2,\n",
       " 1,\n",
       " 2,\n",
       " 2,\n",
       " 2,\n",
       " 2,\n",
       " 1,\n",
       " 2,\n",
       " 1,\n",
       " 2,\n",
       " 2,\n",
       " 2,\n",
       " 2,\n",
       " 2,\n",
       " 2,\n",
       " 1,\n",
       " 2,\n",
       " 2,\n",
       " 2,\n",
       " 2,\n",
       " 2,\n",
       " 1,\n",
       " 2,\n",
       " 2,\n",
       " 2,\n",
       " 2,\n",
       " 2,\n",
       " 2,\n",
       " 1,\n",
       " 1,\n",
       " 1,\n",
       " 1,\n",
       " 1,\n",
       " 2,\n",
       " 2,\n",
       " 1,\n",
       " 1,\n",
       " 2,\n",
       " 2,\n",
       " 2,\n",
       " 2,\n",
       " 1,\n",
       " 2,\n",
       " 2,\n",
       " 2,\n",
       " 2,\n",
       " 1,\n",
       " 1,\n",
       " 1,\n",
       " 2,\n",
       " 2,\n",
       " 2,\n",
       " 2,\n",
       " 2,\n",
       " 2,\n",
       " 1,\n",
       " 1,\n",
       " 1,\n",
       " 2,\n",
       " 1,\n",
       " 1,\n",
       " 1,\n",
       " 1,\n",
       " 2,\n",
       " 1,\n",
       " 2,\n",
       " 1,\n",
       " 2,\n",
       " 2,\n",
       " 2,\n",
       " 2,\n",
       " 2,\n",
       " 2,\n",
       " 2,\n",
       " 1,\n",
       " 2,\n",
       " 2,\n",
       " 2,\n",
       " 2,\n",
       " 2,\n",
       " 1,\n",
       " 2,\n",
       " 1,\n",
       " 2,\n",
       " 2,\n",
       " 1,\n",
       " 2,\n",
       " 2,\n",
       " 2,\n",
       " 2,\n",
       " 1,\n",
       " 2,\n",
       " 1,\n",
       " 2,\n",
       " 2,\n",
       " 2,\n",
       " 2,\n",
       " 1,\n",
       " 2,\n",
       " 1,\n",
       " 2,\n",
       " 2,\n",
       " 2,\n",
       " 1,\n",
       " 2,\n",
       " 2,\n",
       " 2,\n",
       " 2,\n",
       " 2,\n",
       " 2,\n",
       " 1,\n",
       " 1,\n",
       " 2,\n",
       " 2,\n",
       " 1,\n",
       " 2,\n",
       " 2,\n",
       " 2,\n",
       " 1,\n",
       " 2,\n",
       " 2,\n",
       " 1,\n",
       " 2,\n",
       " 2,\n",
       " 2,\n",
       " 2,\n",
       " 2,\n",
       " 2,\n",
       " 2,\n",
       " 1,\n",
       " 2,\n",
       " 2,\n",
       " 1,\n",
       " 2,\n",
       " 1,\n",
       " 1,\n",
       " 1,\n",
       " 1,\n",
       " 2,\n",
       " 1]"
      ]
     },
     "execution_count": 18,
     "metadata": {},
     "output_type": "execute_result"
    }
   ],
   "source": [
    "#Assign Predictions\n",
    "predictions = []\n",
    "for item in projected:\n",
    "    if item >= w0:\n",
    "        predictions.append(2)\n",
    "    else:\n",
    "        predictions.append(1)\n",
    "predictions"
   ]
  },
  {
   "cell_type": "code",
   "execution_count": 19,
   "metadata": {},
   "outputs": [
    {
     "name": "stdout",
     "output_type": "stream",
     "text": [
      "Error Rate is:  11.904761904761903 %\n"
     ]
    }
   ],
   "source": [
    "#Check Classification\n",
    "errors = (labels != predictions)\n",
    "n_errors = sum(errors)\n",
    "\n",
    "error_rate = (n_errors/len(predictions) * 100)\n",
    "print(\"Error Rate is: \", error_rate, \"%\")"
   ]
  },
  {
   "cell_type": "markdown",
   "metadata": {},
   "source": [
    "e. What’s your height and weight? What’s the model prediction for your case (male/female)?"
   ]
  },
  {
   "cell_type": "code",
   "execution_count": 21,
   "metadata": {},
   "outputs": [
    {
     "name": "stdout",
     "output_type": "stream",
     "text": [
      "In my case I was predicted as:  Female  which is  False\n"
     ]
    }
   ],
   "source": [
    "#My case\n",
    "my_height = 164\n",
    "my_weight = 65\n",
    "my_features = np.array([my_height, my_weight*my_height])\n",
    "my_ground_truth = \"Male\"\n",
    "\n",
    "#My Prediction\n",
    "my_projection = np.dot(W.T, my_features)\n",
    "if my_projection >= w0:\n",
    "    my_pred = \"Female\"\n",
    "else:\n",
    "    my_pred = \"Male\"\n",
    "\n",
    "print(\"In my case I was predicted as: \", my_pred, \" which is \", my_ground_truth==my_pred)"
   ]
  },
  {
   "cell_type": "code",
   "execution_count": 26,
   "metadata": {},
   "outputs": [
    {
     "name": "stdout",
     "output_type": "stream",
     "text": [
      "{'n_components': None, 'priors': None, 'shrinkage': None, 'solver': 'svd', 'store_covariance': False, 'tol': 0.0001}\n",
      "[2. 2. 2. 2. 2. 2. 1. 2. 1. 2. 2. 1. 1. 2. 2. 2. 2. 2. 2. 1. 2. 2. 2. 1.\n",
      " 1. 2. 2. 2. 2. 2. 1. 2. 2. 2. 1. 2. 2. 2. 1. 2. 2. 1. 2. 2. 1. 1. 2. 1.\n",
      " 2. 2. 1. 2. 2. 1. 2. 1. 1. 2. 2. 2. 1. 2. 1. 2. 2. 2. 2. 1. 1. 2. 2. 1.\n",
      " 2. 2. 2. 2. 1. 2. 1. 2. 2. 2. 2. 2. 2. 1. 2. 1. 2. 2. 2. 2. 2. 2. 2. 2.\n",
      " 2. 2. 1. 1. 1. 1. 1. 2. 1. 1. 1. 2. 2. 2. 2. 2. 2. 2. 2. 2. 1. 1. 1. 2.\n",
      " 2. 2. 2. 2. 2. 1. 1. 1. 2. 1. 1. 1. 1. 2. 2. 2. 1. 2. 2. 2. 2. 1. 2. 2.\n",
      " 1. 2. 2. 2. 2. 2. 1. 2. 1. 2. 2. 1. 2. 2. 2. 2. 1. 2. 2. 2. 2. 2. 2. 1.\n",
      " 2. 1. 2. 2. 2. 1. 2. 2. 2. 2. 2. 2. 2. 1. 2. 2. 1. 2. 2. 2. 1. 2. 2. 1.\n",
      " 2. 2. 2. 2. 1. 2. 2. 1. 2. 2. 1. 2. 1. 1. 1. 1. 2. 1.]\n",
      "Error Rate is:  11.904761904761903 %\n",
      "\n",
      "As can be seen, our solution is right!\n"
     ]
    }
   ],
   "source": [
    "#Let's use Sklearn to see if our solution is correct\n",
    "#Using sklearn\n",
    "from sklearn.discriminant_analysis import LinearDiscriminantAnalysis\n",
    "clf = LinearDiscriminantAnalysis()\n",
    "clf.fit(new_data[:, 1:], labels)\n",
    "LinearDiscriminantAnalysis(n_components=None, priors=None, shrinkage=None,\n",
    "              solver='eigen', store_covariance=False, tol=0.0001)\n",
    "print(clf.get_params())\n",
    "predictions = clf.predict(new_data[:, 1:])\n",
    "print(predictions)\n",
    "errors = sum(labels!=predictions)\n",
    "error_rate = (n_errors/len(predictions) * 100)\n",
    "print(\"Error Rate is: \", error_rate, \"%\")\n",
    "print(\"\\nAs can be seen, our solution is right!\")"
   ]
  },
  {
   "cell_type": "code",
   "execution_count": null,
   "metadata": {},
   "outputs": [],
   "source": []
  }
 ],
 "metadata": {
  "kernelspec": {
   "display_name": "Python 3",
   "language": "python",
   "name": "python3"
  },
  "language_info": {
   "codemirror_mode": {
    "name": "ipython",
    "version": 3
   },
   "file_extension": ".py",
   "mimetype": "text/x-python",
   "name": "python",
   "nbconvert_exporter": "python",
   "pygments_lexer": "ipython3",
   "version": "3.6.5"
  }
 },
 "nbformat": 4,
 "nbformat_minor": 2
}
