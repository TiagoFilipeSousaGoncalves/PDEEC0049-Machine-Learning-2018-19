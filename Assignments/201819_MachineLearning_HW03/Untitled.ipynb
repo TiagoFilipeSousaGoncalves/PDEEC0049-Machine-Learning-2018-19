{
 "cells": [
  {
   "cell_type": "markdown",
   "metadata": {},
   "source": [
    "1. Load the height/weight data from the file heightWeightData.txt. The first column is the class label (1=male, 2=female), the second column is height, the third weight. Start by replacing the weight column by the product of height and weight.\n",
    "\n",
    "For the Fisher’s linear discriminant analysis as discussed in the class, send the python/matlab code and answers for the following questions:\n",
    "\n",
    "a. What’s the SB matrix?\n",
    "\n",
    "b. What’s the SW matrix?\n",
    "\n",
    "c. What’s the optimal 1d projection direction?\n",
    "\n",
    "d. Project the data in the optimal 1d projection direction. Set the decision threshold as the middle point between the \n",
    "projected means. What’s the misclassification error rate?\n",
    "\n",
    "e. What’s your height and weight? What’s the model prediction for your case (male/female)?"
   ]
  },
  {
   "cell_type": "code",
   "execution_count": 50,
   "metadata": {},
   "outputs": [],
   "source": [
    "#Imports\n",
    "import numpy as np\n",
    "import matplotlib.pyplot as plt\n",
    "\n",
    "np.set_printoptions(suppress=True)"
   ]
  },
  {
   "cell_type": "code",
   "execution_count": 51,
   "metadata": {},
   "outputs": [],
   "source": [
    "data = np.genfromtxt(\"heightWeightData.txt\", delimiter=\",\")\n",
    "\n",
    "#Weight is 3rd Column\n",
    "np.set_printoptions(suppress=True)\n",
    "new_data = np.zeros(data.shape)\n",
    "for i in range(int(new_data.shape[0])):\n",
    "    new_data[i, 0] = data[i, 0]\n",
    "    new_data[i, 1] = data[i, 1]\n",
    "    new_data[i, 2] = np.multiply(data[i, 1], data[i, 2])\n",
    "\n"
   ]
  },
  {
   "cell_type": "code",
   "execution_count": 72,
   "metadata": {},
   "outputs": [
    {
     "name": "stdout",
     "output_type": "stream",
     "text": [
      "73 137\n"
     ]
    }
   ],
   "source": [
    "#Implementing Fisher's Linear Discriminant Analysis\n",
    "#Let's group data first\n",
    "#Count males (=1) and females (=2)\n",
    "nr_males = 0\n",
    "nr_females = 0\n",
    "for i in range(int(data.shape[0])):\n",
    "    if data[i, 0] == 1:\n",
    "        nr_males+=1\n",
    "    elif data[i, 0] == 2:\n",
    "        nr_females+=1\n",
    "print(nr_males, nr_females)\n",
    "\n",
    "#Assign Classes\n",
    "males = np.zeros([nr_males, data.shape[1]])\n",
    "females = np.zeros([nr_females, data.shape[1]])\n",
    "m_index = 0\n",
    "f_index = 0\n",
    "for index in range(int(data.shape[0])):\n",
    "    if data[index, 0] == 1:\n",
    "        males[m_index] = data[index]\n",
    "        m_index+=1\n",
    "    elif data[index, 0] == 2:\n",
    "        females[f_index] = data[index]\n",
    "        f_index+=1\n",
    "\n",
    "#Calculate mean vector for each class\n",
    "\n",
    "\n"
   ]
  },
  {
   "cell_type": "code",
   "execution_count": 74,
   "metadata": {},
   "outputs": [
    {
     "data": {
      "text/plain": [
       "array([[170.18 ,  56.7  ],\n",
       "       [200.66 ,  95.255],\n",
       "       [180.34 ,  68.04 ],\n",
       "       [180.34 ,  79.379],\n",
       "       [182.88 ,  65.772],\n",
       "       [180.34 ,  68.947],\n",
       "       [177.8  ,  64.864],\n",
       "       [182.88 ,  72.576],\n",
       "       [180.34 ,  83.915],\n",
       "       [180.34 ,  70.308],\n",
       "       [190.5  ,  90.719],\n",
       "       [165.1  ,  68.04 ],\n",
       "       [190.5  , 108.86 ],\n",
       "       [172.72 ,  61.236],\n",
       "       [185.42 ,  80.74 ],\n",
       "       [172.72 ,  86.183],\n",
       "       [187.96 ,  81.647],\n",
       "       [185.42 ,  74.844],\n",
       "       [182.88 ,  95.255],\n",
       "       [190.5  , 102.06 ],\n",
       "       [198.12 ,  86.183],\n",
       "       [185.42 , 127.01 ],\n",
       "       [177.8  ,  88.451],\n",
       "       [175.26 ,  76.204],\n",
       "       [182.88 ,  97.523],\n",
       "       [177.8  ,  83.915],\n",
       "       [182.88 ,  80.74 ],\n",
       "       [167.64 ,  65.772],\n",
       "       [172.72 ,  61.236],\n",
       "       [170.18 ,  65.772],\n",
       "       [175.26 ,  87.544],\n",
       "       [180.34 ,  67.132],\n",
       "       [177.8  ,  75.751],\n",
       "       [185.42 , 113.4  ],\n",
       "       [187.96 , 127.01 ],\n",
       "       [200.66 ,  81.647],\n",
       "       [180.34 ,  79.379],\n",
       "       [185.42 ,  56.7  ],\n",
       "       [177.8  ,  70.761],\n",
       "       [190.5  ,  83.915],\n",
       "       [170.18 ,  63.504],\n",
       "       [175.26 ,  70.308],\n",
       "       [175.26 ,  77.111],\n",
       "       [185.42 , 112.04 ],\n",
       "       [187.96 ,  78.019],\n",
       "       [165.1  ,  66.679],\n",
       "       [185.42 ,  74.844],\n",
       "       [187.96 ,  81.647],\n",
       "       [182.88 ,  82.555],\n",
       "       [185.42 ,  72.576],\n",
       "       [187.96 ,  86.183],\n",
       "       [190.5  ,  81.647],\n",
       "       [172.72 ,  74.844],\n",
       "       [182.88 ,  72.576],\n",
       "       [180.34 ,  78.926],\n",
       "       [167.64 ,  68.04 ],\n",
       "       [195.58 , 111.13 ],\n",
       "       [177.8  ,  68.04 ],\n",
       "       [180.34 ,  61.236],\n",
       "       [182.88 ,  72.576],\n",
       "       [175.26 ,  70.308],\n",
       "       [185.42 ,  70.308],\n",
       "       [185.42 ,  72.576],\n",
       "       [180.34 ,  73.483],\n",
       "       [185.42 ,  92.987],\n",
       "       [175.26 ,  81.647],\n",
       "       [193.04 ,  83.915],\n",
       "       [180.34 ,  80.74 ],\n",
       "       [185.42 ,  74.844],\n",
       "       [200.66 ,  74.844],\n",
       "       [190.5  ,  72.576],\n",
       "       [180.34 ,  77.111],\n",
       "       [177.8  ,  83.915]])"
      ]
     },
     "execution_count": 74,
     "metadata": {},
     "output_type": "execute_result"
    }
   ],
   "source": [
    "\n",
    "males = males[:, 1:]\n",
    "males"
   ]
  },
  {
   "cell_type": "markdown",
   "metadata": {},
   "source": [
    "https://sebastianraschka.com/Articles/2014_python_lda.html\n",
    "\n",
    "http://goelhardik.github.io/2016/10/04/fishers-lda/\n",
    "\n",
    "https://www.python-course.eu/linear_discriminant_analysis.php\n",
    "\n",
    "https://github.com/goelhardik/projects/blob/master/fishers_lda/lda.py\n",
    "\n",
    "https://scikit-learn.org/stable/modules/lda_qda.html"
   ]
  },
  {
   "cell_type": "code",
   "execution_count": null,
   "metadata": {},
   "outputs": [],
   "source": []
  }
 ],
 "metadata": {
  "kernelspec": {
   "display_name": "Python 3",
   "language": "python",
   "name": "python3"
  },
  "language_info": {
   "codemirror_mode": {
    "name": "ipython",
    "version": 3
   },
   "file_extension": ".py",
   "mimetype": "text/x-python",
   "name": "python",
   "nbconvert_exporter": "python",
   "pygments_lexer": "ipython3",
   "version": "3.6.5"
  }
 },
 "nbformat": 4,
 "nbformat_minor": 2
}
