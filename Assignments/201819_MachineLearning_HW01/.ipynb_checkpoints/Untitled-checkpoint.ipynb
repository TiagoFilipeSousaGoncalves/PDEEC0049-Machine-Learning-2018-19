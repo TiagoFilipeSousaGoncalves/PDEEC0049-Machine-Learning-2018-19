{
 "cells": [
  {
   "cell_type": "markdown",
   "metadata": {},
   "source": [
    "1. Write a Python function to compute the predictions according to the mean Euclidean distance to the sample points of each class.\n",
    "The function should have the following interface function [prediction] = meanPrediction(dataClass1, dataClass2, dataUnknownClass) where dataClass1 is an array N1xd; dataClass2 is an array N2xd; dataUnknownClass is an array Ntxd; and prediction is an array Ntx1. d is the dimension of the features.\n",
    "\n",
    "a)Determine the training error on your samples using only the x1 feature value. Make use of the function meanPrediction you wrote.\n",
    "\n",
    "b) Repeat but now use two feature values, x1 and x2.\n",
    "\n",
    "c) Repeat but use all three feature values.\n",
    "\n",
    "d) Discuss your results. Is it ever possible for a finite set of data that the training error be larger for more data dimensions?"
   ]
  },
  {
   "cell_type": "code",
   "execution_count": null,
   "metadata": {},
   "outputs": [],
   "source": [
    "import numpy as np\n",
    "import matplotlib.pyplot as plt\n",
    "from math import sqrt\n",
    "from collections import Counter\n",
    "\n",
    "#Implement Euclidean Distance Function First\n",
    "def euclidean_distance(a, b):\n",
    "    # Computes and returns the Euclidean distance between vectors 'a' and 'b'\n",
    "    distance = np.sqrt(np.sum(np.square(a-b)))\n",
    "    return distance\n",
    "\n",
    "#Create function based on Euclidean Distance: k-Nearest Neighbours (kNN)\n",
    "def meanPrediction(dataClass1, dataClass2, dataUnknownClass):\n",
    "    #Create empty distances array\n",
    "    distances = []\n",
    "    \n",
    "    #Compute distance between features of dataClass1 and dataUnknownClass and append to the array distances, where 0 is Class1\n",
    "    for features in dataClass1:\n",
    "        calculated_euc_distance = euclidean_distance(features, dataUnknownClass)\n",
    "        distances.append([calculated_euc_distance, 0])\n",
    "    \n",
    "    #Compute distance between features of dataClass2 and dataUnknownClass and append to the array distances, where 1 is Class1\n",
    "    for features in dataClass2:\n",
    "        calculated_euc_distance = euclidean_distance(features, dataUnknownClass)\n",
    "        distances.append([calculated_euc_distance, 1])\n",
    "    \n",
    "    #k-Nearest Neighbours\n",
    "    #Here we use k = 5\n",
    "    k = 5\n",
    "    votes = [i[1] for i in sorted(distances)[:k]]\n",
    "    \n",
    "    #Count votes and get the most common vote\n",
    "    vote_result = Counter(votes).most_common(1)[0][0]\n",
    "    return vote_result, votes"
   ]
  },
  {
   "cell_type": "code",
   "execution_count": 2,
   "metadata": {},
   "outputs": [
    {
     "name": "stdout",
     "output_type": "stream",
     "text": [
      "dataClass1 is : \n",
      " [[-5.01 -8.12 -3.68]\n",
      " [-5.43 -3.48 -3.54]\n",
      " [ 1.08 -5.52 -1.66]\n",
      " [ 0.86 -3.78 -4.11]\n",
      " [-2.67 -0.63  7.39]\n",
      " [ 4.94  3.29  2.08]\n",
      " [-2.51  2.09 -2.59]\n",
      " [-2.25 -2.13 -6.94]\n",
      " [ 5.56  2.86 -2.26]\n",
      " [ 1.03 -3.33  4.33]] \n",
      "\n",
      "dataClass2 is : \n",
      " [[-0.91 -0.18 -0.05]\n",
      " [ 1.3  -2.06 -3.53]\n",
      " [-7.75 -4.54 -0.95]\n",
      " [-5.47  0.5   3.92]\n",
      " [ 6.14  5.72 -4.85]\n",
      " [ 3.6   1.26  4.36]\n",
      " [ 5.37 -4.63 -3.65]\n",
      " [ 7.18  1.46 -6.66]\n",
      " [-7.39  1.17  6.3 ]\n",
      " [-7.5  -6.32 -0.31]] \n",
      "\n",
      "dataUnknown is: \n",
      " [[7.14567651e-01 6.23101483e-01 9.64492471e-01]\n",
      " [9.12480430e-01 8.22526904e-02 8.20894885e-01]\n",
      " [5.95928216e-02 9.18618115e-01 3.55726546e-04]\n",
      " [2.79050222e-02 9.81086641e-01 1.67964132e-02]\n",
      " [1.24773346e-02 8.93158303e-01 4.41962238e-01]\n",
      " [3.57990191e-02 2.84211861e-01 1.17282644e-01]\n",
      " [6.05625066e-01 4.25506391e-02 7.60206821e-01]\n",
      " [3.57473598e-01 8.58784148e-01 9.40567277e-01]\n",
      " [2.43374798e-01 2.32502653e-02 4.13135972e-01]\n",
      " [4.29043318e-01 1.88474298e-02 4.25264581e-01]] \n",
      "\n"
     ]
    }
   ],
   "source": [
    "dataClass1 = np.zeros((10, 3))\n",
    "#Assign Values dataClass1\n",
    "dataClass1[0, 0] = -5.01\n",
    "dataClass1[0, 1] = -8.12\n",
    "dataClass1[0, 2] = -3.68\n",
    "\n",
    "dataClass1[1, 0] = -5.43\n",
    "dataClass1[1, 1] = -3.48\n",
    "dataClass1[1, 2] = -3.54\n",
    "\n",
    "dataClass1[2, 0] = 1.08\n",
    "dataClass1[2, 1] = -5.52\n",
    "dataClass1[2, 2] = -1.66\n",
    "\n",
    "dataClass1[3, 0] = 0.86\n",
    "dataClass1[3, 1] = -3.78\n",
    "dataClass1[3, 2] = -4.11\n",
    "\n",
    "dataClass1[4, 0] = -2.67\n",
    "dataClass1[4, 1] = -0.63\n",
    "dataClass1[4, 2] = 7.39\n",
    "\n",
    "dataClass1[5, 0] = 4.94\n",
    "dataClass1[5, 1] = 3.29\n",
    "dataClass1[5, 2] = 2.08\n",
    "\n",
    "dataClass1[6, 0] = -2.51\n",
    "dataClass1[6, 1] = 2.09\n",
    "dataClass1[6, 2] = -2.59\n",
    "\n",
    "dataClass1[7, 0] = -2.25\n",
    "dataClass1[7, 1] = -2.13\n",
    "dataClass1[7, 2] = -6.94\n",
    "\n",
    "dataClass1[8, 0] = 5.56\n",
    "dataClass1[8, 1] = 2.86\n",
    "dataClass1[8, 2] = -2.26\n",
    "\n",
    "dataClass1[9, 0] = 1.03\n",
    "dataClass1[9, 1] = -3.33\n",
    "dataClass1[9, 2] = 4.33\n",
    "\n",
    "\n",
    "dataClass2 = np.zeros((10, 3))\n",
    "#Assign Values to dataClass2\n",
    "dataClass2[0, 0] = -0.91\n",
    "dataClass2[0, 1] = -0.18\n",
    "dataClass2[0, 2] = -0.05\n",
    "\n",
    "dataClass2[1, 0] = 1.30\n",
    "dataClass2[1, 1] = -2.06\n",
    "dataClass2[1, 2] = -3.53\n",
    "\n",
    "dataClass2[2, 0] = -7.75\n",
    "dataClass2[2, 1] = -4.54\n",
    "dataClass2[2, 2] = -0.95\n",
    "\n",
    "dataClass2[3, 0] = -5.47\n",
    "dataClass2[3, 1] = 0.50\n",
    "dataClass2[3, 2] = 3.92\n",
    "\n",
    "dataClass2[4, 0] = 6.14\n",
    "dataClass2[4, 1] = 5.72\n",
    "dataClass2[4, 2] = -4.85\n",
    "\n",
    "dataClass2[5, 0] = 3.60\n",
    "dataClass2[5, 1] = 1.26\n",
    "dataClass2[5, 2] = 4.36\n",
    "\n",
    "dataClass2[6, 0] = 5.37\n",
    "dataClass2[6, 1] = -4.63\n",
    "dataClass2[6, 2] = -3.65\n",
    "\n",
    "dataClass2[7, 0] = 7.18\n",
    "dataClass2[7, 1] = 1.46\n",
    "dataClass2[7, 2] = -6.66\n",
    "\n",
    "dataClass2[8, 0] = -7.39\n",
    "dataClass2[8, 1] = 1.17\n",
    "dataClass2[8, 2] = 6.30\n",
    "\n",
    "dataClass2[9, 0] = -7.50\n",
    "dataClass2[9, 1] = -6.32\n",
    "dataClass2[9, 2] = -0.31\n",
    "\n",
    "#Print both datasets\n",
    "print(\"dataClass1 is : \\n\", dataClass1, '\\n')\n",
    "print(\"dataClass2 is : \\n\", dataClass2, '\\n')\n",
    "\n",
    "#Generate dataUnknownClass\n",
    "dataUnknown = np.random.rand(10,3)\n",
    "print(\"dataUnknown is: \\n\", dataUnknown, '\\n')\n",
    "\n",
    "#print(dataClass1.shape, dataClass2.shape, dataUnknown.shape)"
   ]
  },
  {
   "cell_type": "code",
   "execution_count": 3,
   "metadata": {},
   "outputs": [
    {
     "name": "stdout",
     "output_type": "stream",
     "text": [
      "Predicted Class is:  Class C1\n",
      "The votes were:  [0, 0, 0, 1, 1] , where '0' stands for Class C1 and '1' for Class C2.\n"
     ]
    }
   ],
   "source": [
    "#Using Just 1 Feature\n",
    "dataClass1_1f = dataClass1[:, [0]]\n",
    "#print(dataClass1)\n",
    "\n",
    "dataClass2_1f = dataClass2[:, [0]]\n",
    "#print(dataClass2)\n",
    "\n",
    "dataUnknown_1f = dataUnknown[:, [0]]\n",
    "#print(dataUnknown)\n",
    "\n",
    "#Compute function\n",
    "vote_result, votes = meanPrediction(dataClass1_1f, dataClass2_1f, dataUnknown_1f)\n",
    "if vote_result==0:\n",
    "    vote_result = \"Class C1\"\n",
    "elif vote_result==1:\n",
    "    vote_result = \"Class C2\"\n",
    "\n",
    "print(\"Predicted Class is: \", vote_result)\n",
    "print(\"The votes were: \", votes, \", where '0' stands for Class C1 and '1' for Class C2.\")"
   ]
  },
  {
   "cell_type": "code",
   "execution_count": 4,
   "metadata": {},
   "outputs": [
    {
     "name": "stdout",
     "output_type": "stream",
     "text": [
      "Predicted Class is:  Class C2\n",
      "The votes were:  [1, 1, 0, 0, 1] , where '0' stands for Class C1 and '1' for Class C2.\n"
     ]
    }
   ],
   "source": [
    "#Using Just 2 Features\n",
    "dataClass1_2f = dataClass1[:, [0,1]]\n",
    "#print(dataClass1)\n",
    "\n",
    "dataClass2_2f = dataClass2[:, [0,1]]\n",
    "#print(dataClass2)\n",
    "\n",
    "\n",
    "dataUnknown_2f = dataUnknown[:, [0,1]]\n",
    "#print(dataUnknown)\n",
    "\n",
    "#Compute function\n",
    "vote_result, votes = meanPrediction(dataClass1_2f, dataClass2_2f, dataUnknown_2f)\n",
    "if vote_result==0.0:\n",
    "    vote_result = \"Class C1\"\n",
    "elif vote_result==1.0:\n",
    "    vote_result = \"Class C2\"\n",
    "\n",
    "print(\"Predicted Class is: \", vote_result)\n",
    "print(\"The votes were: \", votes, \", where '0' stands for Class C1 and '1' for Class C2.\")"
   ]
  },
  {
   "cell_type": "code",
   "execution_count": 5,
   "metadata": {},
   "outputs": [
    {
     "name": "stdout",
     "output_type": "stream",
     "text": [
      "Predicted Class is:  Class C2\n",
      "The votes were:  [1, 0, 1, 1, 0] , where '0' stands for Class C1 and '1' for Class C2.\n"
     ]
    }
   ],
   "source": [
    "#Using Just 3 Features\n",
    "#Compute function\n",
    "vote_result, votes = meanPrediction(dataClass1, dataClass2, dataUnknown)\n",
    "if vote_result==0.0:\n",
    "    vote_result = \"Class C1\"\n",
    "elif vote_result==1.0:\n",
    "    vote_result = \"Class C2\"\n",
    "\n",
    "print(\"Predicted Class is: \", vote_result)\n",
    "print(\"The votes were: \", votes, \", where '0' stands for Class C1 and '1' for Class C2.\")"
   ]
  },
  {
   "cell_type": "code",
   "execution_count": 7,
   "metadata": {},
   "outputs": [
    {
     "name": "stdout",
     "output_type": "stream",
     "text": [
      "d) Discuss your results. Is it ever possible for a finite set of data that the training error be larger for more data dimensions?\n",
      "\n",
      "Answer: Actually, that is one of the problems with this algorithm, i.e., the accuracy of k-NN can be severely degraded with high-dimension data because there is little difference between the nearest and farthest neighbour.\n",
      "Also, one of the suggestions in order to improve the algorithm is to implement dimensionality reduction techniques like PCA, prior to appplying KNN and help make the distance metric more meaningful.\n"
     ]
    }
   ],
   "source": [
    "print(\"d) Discuss your results. Is it ever possible for a finite set of data that the training error be larger for more data dimensions?\\n\")\n",
    "print(\"Answer: Actually, that is one of the problems with this algorithm, i.e., the accuracy of k-NN can be severely degraded with high-dimension data because there is little difference between the nearest and farthest neighbour.\\nAlso, one of the suggestions in order to improve the algorithm is to implement dimensionality reduction techniques like PCA, prior to appplying KNN and help make the distance metric more meaningful.\")"
   ]
  },
  {
   "cell_type": "markdown",
   "metadata": {},
   "source": [
    "2. Peter is a very predictable man. When he uses his tablet, all he does is watch movies. He always watches until his battery dies. He is also a very meticulous man. He has kept logs of every time he has charged his tablet, which includes how long he charged his tablet for and how long he was able to watch movies for afterwards. Now, Peter wants to use this log to predict how long he will be able to watch movies for when he starts so that he can plan his activities after watching his movies accordingly.\n",
    "You will be able to access Peter’s tablet charging log by reading from the file “TabletTrainingdata.txt”. The training data file consists of 100 lines, each with 2 comma-separated numbers. The first number denotes the amount of time the tablet was charged and the second denotes the amount of time the battery lasted.\n",
    "Read an input (test case) from the console (stdin) representing the amount of time the tablet was charged and output to the console the amount of time you predict his battery will last.\n",
    "\n",
    "    #example to read test case\n",
    "    timeCharged = float(input().strip())\n",
    "    \n",
    "    #example to output\n",
    "    print(prediction)"
   ]
  },
  {
   "cell_type": "code",
   "execution_count": 8,
   "metadata": {},
   "outputs": [],
   "source": [
    "#Regression Model\n",
    "import numpy as np\n",
    "import matplotlib.pyplot as plt\n",
    "\n",
    "#USING OUR OWN IMPLEMENTATION OF LINEAR REGRESSION: Method learned in class\n",
    "def polyRegression(data1D, yy, testData, degree):\n",
    "    xdata = [data1D**dd for dd in range (degree+1)]\n",
    "    xdata = np.concatenate(xdata, axis=1)\n",
    "    \n",
    "    ww = np.linalg.inv(np.dot(xdata.transpose(),xdata))\n",
    "    ww = np.dot(ww, xdata.transpose())\n",
    "    ww = np.dot(ww, yy)    \n",
    "    \n",
    "    xdata = [testData**dd for dd in range (degree+1)]\n",
    "    xdata = np.concatenate(xdata, axis=1)\n",
    "    pred = np.dot(xdata, ww)    \n",
    "    return pred, ww\n",
    "    \n",
    "        \n",
    "    \n",
    "data = np.genfromtxt('TabletTrainingdata.txt', delimiter=',')\n",
    "#print (np.shape(data))\n",
    "#print (type(data))\n",
    "#print (data)"
   ]
  },
  {
   "cell_type": "code",
   "execution_count": 9,
   "metadata": {},
   "outputs": [
    {
     "name": "stdout",
     "output_type": "stream",
     "text": [
      "Insert charged time, in hours:\n",
      "5\n",
      "For  5.0   hours of charging, the battery will last about  8.008794164220959  hours.\n"
     ]
    }
   ],
   "source": [
    "print(\"Insert charged time, in hours:\")\n",
    "timeCharged = float(input().strip())\n",
    "#I used as input: 5.0\n",
    "\n",
    "#We have \"virtual feature = 1\"\n",
    "testData = np.array([[1], [timeCharged]])\n",
    "\n",
    "prediction, model  = polyRegression(data[:,[0]], data[:,[-1]], testData, 4)\n",
    "#print (np.shape(pred))\n",
    "#print (type(pred))\n",
    "#plt.plot(testData, pred);\n",
    "#plt.plot(data[:,[0]], data[:,[-1]], 'o')\n",
    "#print (model)\n",
    "\n",
    "print(\"For \", float(timeCharged), \"  hours of charging, the battery will last about \", float(prediction[1]), \" hours.\")"
   ]
  },
  {
   "cell_type": "code",
   "execution_count": 10,
   "metadata": {},
   "outputs": [
    {
     "name": "stdout",
     "output_type": "stream",
     "text": [
      "USING sklearn\n",
      "Insert charged time, in hours:\n",
      "5\n",
      "For  5.0   hours of charging, the battery will last about  8.008794164217239  hours.\n"
     ]
    }
   ],
   "source": [
    "#USING SKLEARN\n",
    "print (\"USING sklearn\")\n",
    "from sklearn.linear_model import LinearRegression\n",
    "from sklearn.preprocessing import PolynomialFeatures\n",
    "from sklearn.pipeline import make_pipeline\n",
    "\n",
    "data = np.genfromtxt('TabletTrainingdata.txt', delimiter=',')\n",
    "#print (np.shape(data))\n",
    "#print (type(data))\n",
    "#print (data)\n",
    "\n",
    "print(\"Insert charged time, in hours:\")\n",
    "timeCharged = float(input().strip())\n",
    "#I used as input: 5.0\n",
    "\n",
    "#We have \"virtual feature = 1\"\n",
    "testData = np.array([[1], [timeCharged]])\n",
    "\n",
    "model = make_pipeline(PolynomialFeatures(4), LinearRegression())\n",
    "model = model.fit(data[:,[0]], data[:,-1])\n",
    "\n",
    "prediction = model.predict(testData)\n",
    "#print (np.shape(pred))\n",
    "#print (type(pred))\n",
    "#plt.plot(testData, pred);\n",
    "#plt.plot(data[:,[0]], data[:,[-1]], 'o')\n",
    "#print (model)\n",
    "\n",
    "print(\"For \", float(timeCharged), \"  hours of charging, the battery will last about \", float(prediction[1]), \" hours.\")"
   ]
  },
  {
   "cell_type": "markdown",
   "metadata": {},
   "source": [
    "Tiago Filipe Sousa Gonçalves | 5º Ano MIB | UP201607753"
   ]
  },
  {
   "cell_type": "code",
   "execution_count": null,
   "metadata": {},
   "outputs": [],
   "source": []
  }
 ],
 "metadata": {
  "kernelspec": {
   "display_name": "Python 3",
   "language": "python",
   "name": "python3"
  },
  "language_info": {
   "codemirror_mode": {
    "name": "ipython",
    "version": 3
   },
   "file_extension": ".py",
   "mimetype": "text/x-python",
   "name": "python",
   "nbconvert_exporter": "python",
   "pygments_lexer": "ipython3",
   "version": "3.6.6"
  }
 },
 "nbformat": 4,
 "nbformat_minor": 2
}
