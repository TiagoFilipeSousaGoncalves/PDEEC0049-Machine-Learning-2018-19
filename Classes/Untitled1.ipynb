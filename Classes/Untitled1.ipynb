{
 "cells": [
  {
   "cell_type": "code",
   "execution_count": 2,
   "metadata": {},
   "outputs": [],
   "source": [
    "import numpy as np\n",
    "\n",
    "def logRegF(XX, yy):\n",
    "    NN, DD = np.shape(XX)\n",
    "    xdata = np.concatenate((np.ones((NN, 1))), XX, axis=1)\n",
    "    ww = np.zeros((DD+1, 1))\n",
    "    for i in range(1000):\n",
    "        mu = 1 / (1+ np.exp(-np.dot(xdata, ww)))\n",
    "        S = np.diag(np.multiply(mu, (1, mu))[:, 0])\n",
    "        aux = np.linalg.inv(np.dot(np.dot(xdata.T, S), xdata))\n",
    "        aux = np.dot(np.dot(aux, xdata.T), yy-mu)\n",
    "        ww += aux\n",
    "    return ww"
   ]
  },
  {
   "cell_type": "code",
   "execution_count": null,
   "metadata": {},
   "outputs": [],
   "source": []
  }
 ],
 "metadata": {
  "kernelspec": {
   "display_name": "Python 3",
   "language": "python",
   "name": "python3"
  },
  "language_info": {
   "codemirror_mode": {
    "name": "ipython",
    "version": 3
   },
   "file_extension": ".py",
   "mimetype": "text/x-python",
   "name": "python",
   "nbconvert_exporter": "python",
   "pygments_lexer": "ipython3",
   "version": "3.6.6"
  }
 },
 "nbformat": 4,
 "nbformat_minor": 2
}
